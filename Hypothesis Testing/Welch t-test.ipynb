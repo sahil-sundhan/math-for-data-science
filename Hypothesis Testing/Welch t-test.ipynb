{
 "cells": [
  {
   "cell_type": "code",
   "execution_count": 1,
   "id": "1830b7ab",
   "metadata": {},
   "outputs": [],
   "source": [
    "import pandas as pd\n",
    "import matplotlib.pyplot as plt\n",
    "import seaborn as sns"
   ]
  },
  {
   "cell_type": "code",
   "execution_count": 3,
   "id": "2b6ebb23",
   "metadata": {},
   "outputs": [],
   "source": [
    "data = pd.read_csv(\"Hotel Reservations.csv\")"
   ]
  },
  {
   "cell_type": "code",
   "execution_count": 5,
   "id": "b408524c",
   "metadata": {},
   "outputs": [
    {
     "data": {
      "application/vnd.microsoft.datawrangler.viewer.v0+json": {
       "columns": [
        {
         "name": "index",
         "rawType": "int64",
         "type": "integer"
        },
        {
         "name": "Booking_ID",
         "rawType": "object",
         "type": "string"
        },
        {
         "name": "no_of_adults",
         "rawType": "int64",
         "type": "integer"
        },
        {
         "name": "no_of_children",
         "rawType": "int64",
         "type": "integer"
        },
        {
         "name": "no_of_weekend_nights",
         "rawType": "int64",
         "type": "integer"
        },
        {
         "name": "no_of_week_nights",
         "rawType": "int64",
         "type": "integer"
        },
        {
         "name": "type_of_meal_plan",
         "rawType": "object",
         "type": "string"
        },
        {
         "name": "required_car_parking_space",
         "rawType": "int64",
         "type": "integer"
        },
        {
         "name": "room_type_reserved",
         "rawType": "object",
         "type": "string"
        },
        {
         "name": "lead_time",
         "rawType": "int64",
         "type": "integer"
        },
        {
         "name": "arrival_year",
         "rawType": "int64",
         "type": "integer"
        },
        {
         "name": "arrival_month",
         "rawType": "int64",
         "type": "integer"
        },
        {
         "name": "arrival_date",
         "rawType": "int64",
         "type": "integer"
        },
        {
         "name": "market_segment_type",
         "rawType": "object",
         "type": "string"
        },
        {
         "name": "repeated_guest",
         "rawType": "int64",
         "type": "integer"
        },
        {
         "name": "no_of_previous_cancellations",
         "rawType": "int64",
         "type": "integer"
        },
        {
         "name": "no_of_previous_bookings_not_canceled",
         "rawType": "int64",
         "type": "integer"
        },
        {
         "name": "avg_price_per_room",
         "rawType": "float64",
         "type": "float"
        },
        {
         "name": "no_of_special_requests",
         "rawType": "int64",
         "type": "integer"
        },
        {
         "name": "booking_status",
         "rawType": "object",
         "type": "string"
        }
       ],
       "ref": "c1ba8c33-dfca-4223-bfa9-3856d3138a60",
       "rows": [
        [
         "0",
         "INN00001",
         "2",
         "0",
         "1",
         "2",
         "Meal Plan 1",
         "0",
         "Room_Type 1",
         "224",
         "2017",
         "10",
         "2",
         "Offline",
         "0",
         "0",
         "0",
         "65.0",
         "0",
         "Not_Canceled"
        ],
        [
         "1",
         "INN00002",
         "2",
         "0",
         "2",
         "3",
         "Not Selected",
         "0",
         "Room_Type 1",
         "5",
         "2018",
         "11",
         "6",
         "Online",
         "0",
         "0",
         "0",
         "106.68",
         "1",
         "Not_Canceled"
        ],
        [
         "2",
         "INN00003",
         "1",
         "0",
         "2",
         "1",
         "Meal Plan 1",
         "0",
         "Room_Type 1",
         "1",
         "2018",
         "2",
         "28",
         "Online",
         "0",
         "0",
         "0",
         "60.0",
         "0",
         "Canceled"
        ],
        [
         "3",
         "INN00004",
         "2",
         "0",
         "0",
         "2",
         "Meal Plan 1",
         "0",
         "Room_Type 1",
         "211",
         "2018",
         "5",
         "20",
         "Online",
         "0",
         "0",
         "0",
         "100.0",
         "0",
         "Canceled"
        ],
        [
         "4",
         "INN00005",
         "2",
         "0",
         "1",
         "1",
         "Not Selected",
         "0",
         "Room_Type 1",
         "48",
         "2018",
         "4",
         "11",
         "Online",
         "0",
         "0",
         "0",
         "94.5",
         "0",
         "Canceled"
        ]
       ],
       "shape": {
        "columns": 19,
        "rows": 5
       }
      },
      "text/html": [
       "<div>\n",
       "<style scoped>\n",
       "    .dataframe tbody tr th:only-of-type {\n",
       "        vertical-align: middle;\n",
       "    }\n",
       "\n",
       "    .dataframe tbody tr th {\n",
       "        vertical-align: top;\n",
       "    }\n",
       "\n",
       "    .dataframe thead th {\n",
       "        text-align: right;\n",
       "    }\n",
       "</style>\n",
       "<table border=\"1\" class=\"dataframe\">\n",
       "  <thead>\n",
       "    <tr style=\"text-align: right;\">\n",
       "      <th></th>\n",
       "      <th>Booking_ID</th>\n",
       "      <th>no_of_adults</th>\n",
       "      <th>no_of_children</th>\n",
       "      <th>no_of_weekend_nights</th>\n",
       "      <th>no_of_week_nights</th>\n",
       "      <th>type_of_meal_plan</th>\n",
       "      <th>required_car_parking_space</th>\n",
       "      <th>room_type_reserved</th>\n",
       "      <th>lead_time</th>\n",
       "      <th>arrival_year</th>\n",
       "      <th>arrival_month</th>\n",
       "      <th>arrival_date</th>\n",
       "      <th>market_segment_type</th>\n",
       "      <th>repeated_guest</th>\n",
       "      <th>no_of_previous_cancellations</th>\n",
       "      <th>no_of_previous_bookings_not_canceled</th>\n",
       "      <th>avg_price_per_room</th>\n",
       "      <th>no_of_special_requests</th>\n",
       "      <th>booking_status</th>\n",
       "    </tr>\n",
       "  </thead>\n",
       "  <tbody>\n",
       "    <tr>\n",
       "      <th>0</th>\n",
       "      <td>INN00001</td>\n",
       "      <td>2</td>\n",
       "      <td>0</td>\n",
       "      <td>1</td>\n",
       "      <td>2</td>\n",
       "      <td>Meal Plan 1</td>\n",
       "      <td>0</td>\n",
       "      <td>Room_Type 1</td>\n",
       "      <td>224</td>\n",
       "      <td>2017</td>\n",
       "      <td>10</td>\n",
       "      <td>2</td>\n",
       "      <td>Offline</td>\n",
       "      <td>0</td>\n",
       "      <td>0</td>\n",
       "      <td>0</td>\n",
       "      <td>65.00</td>\n",
       "      <td>0</td>\n",
       "      <td>Not_Canceled</td>\n",
       "    </tr>\n",
       "    <tr>\n",
       "      <th>1</th>\n",
       "      <td>INN00002</td>\n",
       "      <td>2</td>\n",
       "      <td>0</td>\n",
       "      <td>2</td>\n",
       "      <td>3</td>\n",
       "      <td>Not Selected</td>\n",
       "      <td>0</td>\n",
       "      <td>Room_Type 1</td>\n",
       "      <td>5</td>\n",
       "      <td>2018</td>\n",
       "      <td>11</td>\n",
       "      <td>6</td>\n",
       "      <td>Online</td>\n",
       "      <td>0</td>\n",
       "      <td>0</td>\n",
       "      <td>0</td>\n",
       "      <td>106.68</td>\n",
       "      <td>1</td>\n",
       "      <td>Not_Canceled</td>\n",
       "    </tr>\n",
       "    <tr>\n",
       "      <th>2</th>\n",
       "      <td>INN00003</td>\n",
       "      <td>1</td>\n",
       "      <td>0</td>\n",
       "      <td>2</td>\n",
       "      <td>1</td>\n",
       "      <td>Meal Plan 1</td>\n",
       "      <td>0</td>\n",
       "      <td>Room_Type 1</td>\n",
       "      <td>1</td>\n",
       "      <td>2018</td>\n",
       "      <td>2</td>\n",
       "      <td>28</td>\n",
       "      <td>Online</td>\n",
       "      <td>0</td>\n",
       "      <td>0</td>\n",
       "      <td>0</td>\n",
       "      <td>60.00</td>\n",
       "      <td>0</td>\n",
       "      <td>Canceled</td>\n",
       "    </tr>\n",
       "    <tr>\n",
       "      <th>3</th>\n",
       "      <td>INN00004</td>\n",
       "      <td>2</td>\n",
       "      <td>0</td>\n",
       "      <td>0</td>\n",
       "      <td>2</td>\n",
       "      <td>Meal Plan 1</td>\n",
       "      <td>0</td>\n",
       "      <td>Room_Type 1</td>\n",
       "      <td>211</td>\n",
       "      <td>2018</td>\n",
       "      <td>5</td>\n",
       "      <td>20</td>\n",
       "      <td>Online</td>\n",
       "      <td>0</td>\n",
       "      <td>0</td>\n",
       "      <td>0</td>\n",
       "      <td>100.00</td>\n",
       "      <td>0</td>\n",
       "      <td>Canceled</td>\n",
       "    </tr>\n",
       "    <tr>\n",
       "      <th>4</th>\n",
       "      <td>INN00005</td>\n",
       "      <td>2</td>\n",
       "      <td>0</td>\n",
       "      <td>1</td>\n",
       "      <td>1</td>\n",
       "      <td>Not Selected</td>\n",
       "      <td>0</td>\n",
       "      <td>Room_Type 1</td>\n",
       "      <td>48</td>\n",
       "      <td>2018</td>\n",
       "      <td>4</td>\n",
       "      <td>11</td>\n",
       "      <td>Online</td>\n",
       "      <td>0</td>\n",
       "      <td>0</td>\n",
       "      <td>0</td>\n",
       "      <td>94.50</td>\n",
       "      <td>0</td>\n",
       "      <td>Canceled</td>\n",
       "    </tr>\n",
       "  </tbody>\n",
       "</table>\n",
       "</div>"
      ],
      "text/plain": [
       "  Booking_ID  no_of_adults  no_of_children  no_of_weekend_nights  \\\n",
       "0   INN00001             2               0                     1   \n",
       "1   INN00002             2               0                     2   \n",
       "2   INN00003             1               0                     2   \n",
       "3   INN00004             2               0                     0   \n",
       "4   INN00005             2               0                     1   \n",
       "\n",
       "   no_of_week_nights type_of_meal_plan  required_car_parking_space  \\\n",
       "0                  2       Meal Plan 1                           0   \n",
       "1                  3      Not Selected                           0   \n",
       "2                  1       Meal Plan 1                           0   \n",
       "3                  2       Meal Plan 1                           0   \n",
       "4                  1      Not Selected                           0   \n",
       "\n",
       "  room_type_reserved  lead_time  arrival_year  arrival_month  arrival_date  \\\n",
       "0        Room_Type 1        224          2017             10             2   \n",
       "1        Room_Type 1          5          2018             11             6   \n",
       "2        Room_Type 1          1          2018              2            28   \n",
       "3        Room_Type 1        211          2018              5            20   \n",
       "4        Room_Type 1         48          2018              4            11   \n",
       "\n",
       "  market_segment_type  repeated_guest  no_of_previous_cancellations  \\\n",
       "0             Offline               0                             0   \n",
       "1              Online               0                             0   \n",
       "2              Online               0                             0   \n",
       "3              Online               0                             0   \n",
       "4              Online               0                             0   \n",
       "\n",
       "   no_of_previous_bookings_not_canceled  avg_price_per_room  \\\n",
       "0                                     0               65.00   \n",
       "1                                     0              106.68   \n",
       "2                                     0               60.00   \n",
       "3                                     0              100.00   \n",
       "4                                     0               94.50   \n",
       "\n",
       "   no_of_special_requests booking_status  \n",
       "0                       0   Not_Canceled  \n",
       "1                       1   Not_Canceled  \n",
       "2                       0       Canceled  \n",
       "3                       0       Canceled  \n",
       "4                       0       Canceled  "
      ]
     },
     "execution_count": 5,
     "metadata": {},
     "output_type": "execute_result"
    }
   ],
   "source": [
    "data.head()"
   ]
  },
  {
   "cell_type": "code",
   "execution_count": 6,
   "id": "42b34486",
   "metadata": {},
   "outputs": [
    {
     "name": "stdout",
     "output_type": "stream",
     "text": [
      "<class 'pandas.core.frame.DataFrame'>\n",
      "RangeIndex: 36275 entries, 0 to 36274\n",
      "Data columns (total 19 columns):\n",
      " #   Column                                Non-Null Count  Dtype  \n",
      "---  ------                                --------------  -----  \n",
      " 0   Booking_ID                            36275 non-null  object \n",
      " 1   no_of_adults                          36275 non-null  int64  \n",
      " 2   no_of_children                        36275 non-null  int64  \n",
      " 3   no_of_weekend_nights                  36275 non-null  int64  \n",
      " 4   no_of_week_nights                     36275 non-null  int64  \n",
      " 5   type_of_meal_plan                     36275 non-null  object \n",
      " 6   required_car_parking_space            36275 non-null  int64  \n",
      " 7   room_type_reserved                    36275 non-null  object \n",
      " 8   lead_time                             36275 non-null  int64  \n",
      " 9   arrival_year                          36275 non-null  int64  \n",
      " 10  arrival_month                         36275 non-null  int64  \n",
      " 11  arrival_date                          36275 non-null  int64  \n",
      " 12  market_segment_type                   36275 non-null  object \n",
      " 13  repeated_guest                        36275 non-null  int64  \n",
      " 14  no_of_previous_cancellations          36275 non-null  int64  \n",
      " 15  no_of_previous_bookings_not_canceled  36275 non-null  int64  \n",
      " 16  avg_price_per_room                    36275 non-null  float64\n",
      " 17  no_of_special_requests                36275 non-null  int64  \n",
      " 18  booking_status                        36275 non-null  object \n",
      "dtypes: float64(1), int64(13), object(5)\n",
      "memory usage: 5.3+ MB\n"
     ]
    }
   ],
   "source": [
    "data.info()"
   ]
  },
  {
   "cell_type": "code",
   "execution_count": 7,
   "id": "c6875a7a",
   "metadata": {},
   "outputs": [],
   "source": [
    "numerical_columns = ['lead_time', 'avg_price_per_room']"
   ]
  },
  {
   "cell_type": "code",
   "execution_count": null,
   "id": "2e3a6f73",
   "metadata": {},
   "outputs": [],
   "source": [
    "data_cancelled = data.loc[data.booking_status == 'Canceled', numerical_columns].reset_index(drop=True)\n",
    "data_not_cancelled = data.loc[data.booking_status == 'Not_Canceled', numerical_columns].reset_index(drop=True)"
   ]
  },
  {
   "cell_type": "markdown",
   "id": "d590dfeb",
   "metadata": {},
   "source": [
    "### Welch t-test"
   ]
  },
  {
   "cell_type": "code",
   "execution_count": 18,
   "id": "5bd1f346",
   "metadata": {},
   "outputs": [],
   "source": [
    "from scipy import stats"
   ]
  },
  {
   "cell_type": "code",
   "execution_count": 25,
   "id": "00f272cf",
   "metadata": {},
   "outputs": [],
   "source": [
    "column = 'avg_price_per_room'"
   ]
  },
  {
   "cell_type": "code",
   "execution_count": 35,
   "id": "6d9e1c8f",
   "metadata": {},
   "outputs": [
    {
     "name": "stdout",
     "output_type": "stream",
     "text": [
      "Performing t-test for variable: lead_time\n",
      "Null-Hyptothesis - lead_time for customers who canceled the booking has equal mean as the customers who have not cancelling the booking\n",
      "t-statisitc: 92.9347245970639\n",
      "p-value: 0.0000000000\n",
      "H0-rejected\n",
      "\n",
      "\n",
      "Performing t-test for variable: avg_price_per_room\n",
      "Null-Hyptothesis - avg_price_per_room for customers who canceled the booking has equal mean as the customers who have not cancelling the booking\n",
      "t-statisitc: 27.433239020374042\n",
      "p-value: 0.0000000000\n",
      "H0-rejected\n",
      "\n",
      "\n"
     ]
    }
   ],
   "source": [
    "for column in numerical_columns:\n",
    "    print(f\"Performing t-test for variable: {column}\")\n",
    "    print(f\"Null-Hyptothesis - {column} for customers who canceled the booking has equal mean as the customers who have not cancelling the booking\")\n",
    "    sample_1 = data_cancelled[column]\n",
    "    #print(\"Sample 1\", sample_1)\n",
    "    sample_2 = data_not_cancelled[column]\n",
    "    #print(\"Sample 2\", sample_2)\n",
    "    stat, p = stats.ttest_ind(sample_1, sample_2)\n",
    "    print(f\"t-statisitc: {stat}\")\n",
    "    print(f\"p-value: {p:.10f}\")\n",
    "    print(f\"{'H0-rejected' if p < 0.05 else 'H0-not rejected'}\\n\\n\")"
   ]
  }
 ],
 "metadata": {
  "kernelspec": {
   "display_name": "venv",
   "language": "python",
   "name": "python3"
  },
  "language_info": {
   "codemirror_mode": {
    "name": "ipython",
    "version": 3
   },
   "file_extension": ".py",
   "mimetype": "text/x-python",
   "name": "python",
   "nbconvert_exporter": "python",
   "pygments_lexer": "ipython3",
   "version": "3.11.3"
  }
 },
 "nbformat": 4,
 "nbformat_minor": 5
}
