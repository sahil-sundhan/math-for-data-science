{
 "cells": [
  {
   "cell_type": "code",
   "execution_count": null,
   "id": "d5395913",
   "metadata": {},
   "outputs": [],
   "source": [
    "import numpy as np"
   ]
  },
  {
   "cell_type": "code",
   "execution_count": 2,
   "id": "c8fe4e8b",
   "metadata": {},
   "outputs": [],
   "source": [
    "# Percentiles"
   ]
  },
  {
   "cell_type": "code",
   "execution_count": 3,
   "id": "77e085e8",
   "metadata": {},
   "outputs": [],
   "source": [
    "data = [10, 20, 30, 40]"
   ]
  },
  {
   "cell_type": "code",
   "execution_count": 4,
   "id": "8833331e",
   "metadata": {},
   "outputs": [
    {
     "name": "stdout",
     "output_type": "stream",
     "text": [
      "40th Percentile linear interpolation: 22.0\n",
      "40th Percentile lower interpolation: 20\n",
      "40th Percentile higher interpolation: 30\n",
      "40th Percentile midpoint interpolation: 25.0\n",
      "40th Percentile nearest interpolation: 20\n"
     ]
    }
   ],
   "source": [
    "print(f\"40th Percentile linear interpolation: {np.percentile(data, 40, method='linear')}\")\n",
    "print(f\"40th Percentile lower interpolation: {np.percentile(data, 40, method='lower')}\")\n",
    "print(f\"40th Percentile higher interpolation: {np.percentile(data, 40, method='higher')}\")\n",
    "print(f\"40th Percentile midpoint interpolation: {np.percentile(data, 40, method='midpoint')}\")\n",
    "print(f\"40th Percentile nearest interpolation: {np.percentile(data, 40, method='nearest')}\")"
   ]
  }
 ],
 "metadata": {
  "kernelspec": {
   "display_name": "venv",
   "language": "python",
   "name": "python3"
  },
  "language_info": {
   "codemirror_mode": {
    "name": "ipython",
    "version": 3
   },
   "file_extension": ".py",
   "mimetype": "text/x-python",
   "name": "python",
   "nbconvert_exporter": "python",
   "pygments_lexer": "ipython3",
   "version": "3.11.3"
  }
 },
 "nbformat": 4,
 "nbformat_minor": 5
}
